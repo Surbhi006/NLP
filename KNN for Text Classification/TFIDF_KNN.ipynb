{
 "cells": [
  {
   "cell_type": "code",
   "execution_count": 199,
   "metadata": {},
   "outputs": [],
   "source": [
    "import pandas as pd\n",
    "import os\n",
    "from nltk.tokenize import word_tokenize\n",
    "from num2words import num2words\n",
    "import nltk\n",
    "import string\n",
    "import unicodedata\n",
    "from nltk.stem import WordNetLemmatizer\n",
    "from nltk.corpus import stopwords\n",
    "from nltk.stem import PorterStemmer\n",
    "import pickle\n",
    "import math\n",
    "import numpy as np\n",
    "from matplotlib import pyplot as plt\n",
    "from nltk.tokenize import word_tokenize\n",
    "import operator\n",
    "from sklearn.model_selection import train_test_split\n",
    "import random\n",
    "from tqdm import tqdm\n",
    "import copy"
   ]
  },
  {
   "cell_type": "code",
   "execution_count": 200,
   "metadata": {},
   "outputs": [],
   "source": [
    "folder_name ='Assignment3_IR/20_newsgroups'\n",
    "folders = ['sci.med','talk.politics.misc','rec.sport.hockey','sci.space', 'comp.graphics']"
   ]
  },
  {
   "cell_type": "code",
   "execution_count": 201,
   "metadata": {},
   "outputs": [],
   "source": [
    "#uploading of data in this block and appending files and class_names to X and Y.\n",
    "X=[]\n",
    "Y=[]\n",
    "f=[]\n",
    "total_doc=0\n",
    "files_path=[]\n",
    "labels=[]\n",
    "for folder in folders:\n",
    "    for files in (os.listdir(folder_name+'/'+folder)):\n",
    "        i=str(folder_name+'/'+folder+'/'+files)\n",
    "        total_doc+=1\n",
    "        files_path.append(i)\n",
    "        labels.append(folder)\n",
    "        X.append((files))\n",
    "        f.append(files)\n",
    "        Y.append(folder)"
   ]
  },
  {
   "cell_type": "code",
   "execution_count": 202,
   "metadata": {},
   "outputs": [],
   "source": [
    "#as the name suggest here data is splitted into train and test data, user need to enter train split ratio in fraction.\n",
    "\n",
    "def train_test_split(X,Y,split_ratio):\n",
    "    length_X =len(X)\n",
    "    #length_Y = len(Y)\n",
    "    #length_Y = len(folders)\n",
    "    files_class = int(length_X/len(folders))\n",
    "    frac = int((length_X/len(folders))*(split_ratio))\n",
    "    train_X =[] \n",
    "    train_Y=[]\n",
    "    test_X =[]\n",
    "    test_Y=[]\n",
    "    #list1=list2=list3=list4=list5=[]\n",
    "    ctr = 0\n",
    "    #l = list(range(len(X)))\n",
    "    #random.shuffle(l)\n",
    "    for i in range(1,(len(folders)+1)):\n",
    "        l = list(range(0+ctr,files_class+ctr))\n",
    "        random.shuffle(l)\n",
    "        c = 0+ctr\n",
    "        for j in l:\n",
    "            if c < frac + ctr:\n",
    "                train_X.append(X[j])\n",
    "                train_Y.append(Y[j])\n",
    "            else:\n",
    "                test_X.append(X[j])\n",
    "                test_Y.append(Y[j])\n",
    "            c+=1\n",
    "            #print(c)\n",
    "        ctr = files_class * i\n",
    "    return train_X,test_X,train_Y,test_Y"
   ]
  },
  {
   "cell_type": "code",
   "execution_count": 203,
   "metadata": {},
   "outputs": [],
   "source": [
    "#function calling \n",
    "train_X,test_X,train_Y,test_Y = train_test_split(X,Y,0.8)"
   ]
  },
  {
   "cell_type": "code",
   "execution_count": 204,
   "metadata": {},
   "outputs": [],
   "source": [
    "def removeHeader(text):\n",
    "    paragraphs = text.split('\\n\\n')\n",
    "    metadata_removed_text = \"\"\n",
    "    text_list = []\n",
    "    for i in range(1 , len(paragraphs)):\n",
    "        metadata_removed_text = metadata_removed_text + paragraphs[i]\n",
    "    return metadata_removed_text"
   ]
  },
  {
   "cell_type": "code",
   "execution_count": 205,
   "metadata": {},
   "outputs": [],
   "source": [
    "#function used for data preprocessing includes removal of stopwords,punctuations and words of length 1.\n",
    "#words are converted into lowercase and num2words.\n",
    "def preprocess_data(text):\n",
    "    token_list=[]\n",
    "    ps = nltk.PorterStemmer() \n",
    "    stop_words = set(stopwords.words('english'))\n",
    "    #text = removeHeader(text)\n",
    "    text = text.lower()\n",
    "    text = word_tokenize(text)\n",
    "    punc = string.punctuation\n",
    "    tokens = [i for i in text if not i in (stop_words and punc)]\n",
    "    for word in tokens:\n",
    "        w=word.translate(str.maketrans('','',string.punctuation))\n",
    "        if len(w)>1 and w!= '' and w not in stop_words:\n",
    "            w=ps.stem(w)\n",
    "            if w.isnumeric():\n",
    "                w = num2words(w)\n",
    "                token_list.append(w)\n",
    "            else:\n",
    "                token_list.append(w)\n",
    "    return token_list"
   ]
  },
  {
   "cell_type": "code",
   "execution_count": 206,
   "metadata": {},
   "outputs": [
    {
     "name": "stderr",
     "output_type": "stream",
     "text": [
      "100%|██████████| 4000/4000 [02:12<00:00, 30.25it/s]\n"
     ]
    }
   ],
   "source": [
    "#dictionary is generated\n",
    "train_X_dic = {}\n",
    "class_terms={}\n",
    "for i in tqdm(range(len(train_X))):\n",
    "    if train_Y[i] not in train_X_dic:\n",
    "        train_X_dic[train_Y[i]]={} #if class_label not present add it\n",
    "    if train_Y[i] not in class_terms:\n",
    "        class_terms[train_Y[i]]={} #same as above\n",
    "    #reading train data\n",
    "    with open(folder_name+'/'+train_Y[i]+'/'+train_X[i],'r',encoding='cp1250',errors='ignore') as file:\n",
    "        prc_data=preprocess_data(file.read()) #preprocessing\n",
    "        \n",
    "        class_terms[train_Y[i]][train_X[i]]={} # document not present then add that doc id.\n",
    "        \n",
    "        for j in range(len(prc_data)):\n",
    "            if prc_data[j] not in class_terms[train_Y[i]][train_X[i]]:\n",
    "                class_terms[train_Y[i]][train_X[i]][prc_data[j]]=1 #if word not present add it into a dictionary with value as 1\n",
    "            if prc_data[j] not in train_X_dic[train_Y[i]]:\n",
    "                train_X_dic[train_Y[i]][prc_data[j]]=1 # term frequency of a word in a particular class\n",
    "            else:\n",
    "                train_X_dic[train_Y[i]][prc_data[j]]+=1"
   ]
  },
  {
   "cell_type": "code",
   "execution_count": 207,
   "metadata": {},
   "outputs": [
    {
     "name": "stdout",
     "output_type": "stream",
     "text": [
      "62563\n"
     ]
    }
   ],
   "source": [
    "#total distinct words in an entire corpus\n",
    "vocab=[]\n",
    "for classes in train_X_dic:\n",
    "    for terms in train_X_dic[classes]:\n",
    "        vocab.append(terms)\n",
    "vocab = set(vocab)\n",
    "print(len(vocab))"
   ]
  },
  {
   "cell_type": "code",
   "execution_count": 208,
   "metadata": {},
   "outputs": [],
   "source": [
    "#idf value of a term\n",
    "idf=(train_X_dic).copy()\n",
    "for label in train_X_dic:\n",
    "    class_idf={}\n",
    "    for term in train_X_dic[label]:\n",
    "        val = 0\n",
    "        for l in train_X_dic:\n",
    "            if term in train_X_dic[l]:\n",
    "                val+=1\n",
    "        #print(val)\n",
    "        class_idf[term] = math.log((5/val),10)\n",
    "    idf[label] = class_idf"
   ]
  },
  {
   "cell_type": "code",
   "execution_count": 209,
   "metadata": {},
   "outputs": [],
   "source": [
    "#tf-idf value of a term in a particular class\n",
    "tf_idf={}\n",
    "for label in train_X_dic:\n",
    "    tf_idf_inner={}\n",
    "    for term in train_X_dic[label]:\n",
    "        #print(term)\n",
    "        #print(tf[label][term])\n",
    "        #print(idf[label][term])\n",
    "        tf_idf_inner[term] = train_X_dic[label][term]*idf[label][term]\n",
    "    tf_idf[label]=tf_idf_inner"
   ]
  },
  {
   "cell_type": "code",
   "execution_count": 210,
   "metadata": {},
   "outputs": [],
   "source": [
    "#sorting tfidf and choose desired number of features by entering the percentage of k in fraction and updated into a train data \n",
    "import operator\n",
    "train_X_dic={}\n",
    "for key in tf_idf:\n",
    "    train_X_dic[key] = sorted(tf_idf[key].items(), key=operator.itemgetter(1),reverse=True)\n",
    "    train_X_dic[key] = dict(train_X_dic[key][:(int)((0.7)*len(train_X_dic[key]))])  #selecting some percentage among all values of I"
   ]
  },
  {
   "cell_type": "code",
   "execution_count": 211,
   "metadata": {},
   "outputs": [
    {
     "name": "stderr",
     "output_type": "stream",
     "text": [
      "100%|██████████| 4000/4000 [00:45<00:00, 88.31it/s] \n"
     ]
    }
   ],
   "source": [
    "#used for generating document vector of voacb size of all documents in a particular class.\n",
    "doc_vector={}\n",
    "for i in tqdm(range(len(train_X))):\n",
    "    if train_Y[i] not in doc_vector: \n",
    "        doc_vector[train_Y[i]]={} #class label not present add it \n",
    "    if train_X[i] not in doc_vector[train_Y[i]]: \n",
    "        doc_vector[train_Y[i]][train_X[i]]=[] #adding documents of a particular class\n",
    "        for term in train_X_dic[train_Y[i]]:\n",
    "            if term in class_terms[train_Y[i]][train_X[i]]: #term present in doc add tf idf else 0\n",
    "                doc_vector[train_Y[i]][train_X[i]].append(tf_idf[train_Y[i]][term]) \n",
    "            else:\n",
    "                doc_vector[train_Y[i]][train_X[i]].append(0)\n",
    "        doc_vector[train_Y[i]][train_X[i]] = np.asarray(doc_vector[train_Y[i]][train_X[i]]) #convert it to array for faster computations"
   ]
  },
  {
   "cell_type": "code",
   "execution_count": 196,
   "metadata": {},
   "outputs": [],
   "source": [
    "def compute_distance(test_doc,classes):\n",
    "    distance={}\n",
    "    for doc in doc_vector[classes]: #cosine similarity formula is used taking train document vector and test document vector as input\n",
    "        temp = np.dot(doc_vector[classes][doc], test_doc)   \n",
    "        number = math.sqrt(np.sum(np.dot(temp, temp)))\n",
    "        d1 = np.sqrt(np.sum(np.dot(test_doc,test_doc)))\n",
    "        d2 = np.sqrt(np.sum(np.dot(doc_vector[classes][doc], doc_vector[classes][doc])))\n",
    "        try:\n",
    "            distance[doc] = number/(d1*d2) #storing result into a dictionary if not 0 \n",
    "        except:\n",
    "            distance[doc] = 0\n",
    "    return distance"
   ]
  },
  {
   "cell_type": "code",
   "execution_count": 197,
   "metadata": {},
   "outputs": [],
   "source": [
    "#dictionary for mapping every document with it's class label.\n",
    "mapping_doc={}\n",
    "#print(doc_vector)\n",
    "for i in range(len(X)):\n",
    "    mapping_doc[X[i]]=Y[i]"
   ]
  },
  {
   "cell_type": "code",
   "execution_count": 198,
   "metadata": {},
   "outputs": [
    {
     "name": "stderr",
     "output_type": "stream",
     "text": [
      "  1%|▏         | 13/1000 [00:06<07:39,  2.15it/s]/home/surbhi/anaconda3/lib/python3.7/site-packages/ipykernel_launcher.py:9: RuntimeWarning: invalid value encountered in double_scalars\n",
      "  if __name__ == '__main__':\n",
      "100%|██████████| 1000/1000 [10:01<00:00,  1.66it/s]\n"
     ]
    }
   ],
   "source": [
    "predicted_1=[] #3 lists for storing predicted values of 1nn,3nn and 5nn\n",
    "predicted_3=[]\n",
    "predicted_5=[]\n",
    "label = []\n",
    "for i in tqdm(range (len(test_X))):\n",
    "    #reading test data\n",
    "     with open(folder_name+'/'+test_Y[i]+'/'+test_X[i],'r',encoding='cp1250',errors='ignore') as f:\n",
    "        data = preprocess_data(f.read()) #preprocessing\n",
    "        dist_class={}\n",
    "        for classes in folders:\n",
    "            class_vector = []\n",
    "            for term in train_X_dic[classes]: #generating document vector for a test document similar to train data\n",
    "                #print(classes,term)\n",
    "                if term not in data:\n",
    "                    class_vector.append(0) #if term not peresnt appending 0 else tf-idf \n",
    "                else:\n",
    "                    class_vector.append(tf_idf[classes][term])\n",
    "            class_vector = np.asarray(class_vector) #for faster computation changing it to array \n",
    "            distance = compute_distance(class_vector, classes) #computing distance between train and test doc and updating in a dictionary with score.\n",
    "            #print(distance)\n",
    "            dist_class.update(distance)\n",
    "#        l = sorted(dist_class.items(),key=lambda x:x[1], reverse = True)\n",
    "#        label.append(mapping_doc[l[0][0]])\n",
    "#        print(mapping_doc[l[0][0]], l[0][0])\n",
    "#        print(mapping_doc[l[1][0]], l[1][0])\n",
    "        max_1 = max(dist_class, key = dist_class.get) #top 5 maximum values are choosen from the dictionary which has the highest distance values.\n",
    "        max1 = max_1,dist_class[max_1]\n",
    "        #print(min1)\n",
    "        del dist_class[max_1]\n",
    "        max_2 = max(dist_class, key = dist_class.get)\n",
    "        max2 = max_2,dist_class[max_2]\n",
    "        #print(min2)\n",
    "        del dist_class[max_2]\n",
    "        max_3 = max(dist_class, key = dist_class.get)\n",
    "        max3 = max_3,dist_class[max_3]\n",
    "        #print(min3)\n",
    "        del dist_class[max_3]\n",
    "        max_4 = max(dist_class, key = dist_class.get)\n",
    "        max4 = max_4,dist_class[max_4]\n",
    "        #print(min4)\n",
    "        del dist_class[max_4]\n",
    "        max_5 = max(dist_class, key = dist_class.get)\n",
    "        max5 = max_5,dist_class[max_5]\n",
    "        #print(min5)\n",
    "        del dist_class[max_5]\n",
    "        labels = {'comp.graphics':0, 'sci.med':0, 'talk.politics.misc':0, 'rec.sport.hockey':0, 'sci.space':0}\n",
    "        \n",
    "        labels[mapping_doc[max_1]]+=1 #mapping documents with class label using mappin dictionary defined above\n",
    "        predicted_1.append(max(labels, key = labels.get)) #getting the label with maximum value\n",
    "        labels[mapping_doc[max_2]]+=1\n",
    "        labels[mapping_doc[max_3]]+=1\n",
    "        predicted_3.append(max(labels, key = labels.get))\n",
    "        labels[mapping_doc[max_4]]+=1\n",
    "        labels[mapping_doc[max_5]]+=1\n",
    "        predicted_5.append(max(labels, key = labels.get))"
   ]
  },
  {
   "cell_type": "code",
   "execution_count": 170,
   "metadata": {},
   "outputs": [],
   "source": [
    "#accuracy \n",
    "def accuracy_metric(test, predicted):\n",
    "    correct=0\n",
    "    for i in range(len(test)):\n",
    "        #print(predicted[i])\n",
    "        if test[i] == predicted[i]: #checking the correct predictions and adding by 1 every time if correct\n",
    "            correct+=1\n",
    "    return correct / float(len(test))*100"
   ]
  },
  {
   "cell_type": "code",
   "execution_count": 171,
   "metadata": {},
   "outputs": [],
   "source": [
    "pred_list=[predicted_1,predicted_3,predicted_5] #making a combine list of predicted values in 1nn,3nn and 5nn"
   ]
  },
  {
   "cell_type": "code",
   "execution_count": 172,
   "metadata": {},
   "outputs": [],
   "source": [
    "# appending accuraies of all the predictions\n",
    "acc_list=[]\n",
    "pred = []\n",
    "for i in range(3):\n",
    "    acc = accuracy_metric(test_Y,pred_list[i])\n",
    "    acc_list.append(acc)"
   ]
  },
  {
   "cell_type": "code",
   "execution_count": 173,
   "metadata": {},
   "outputs": [],
   "source": [
    "#confusion matrix\n",
    "def confusion(test,predicted):\n",
    "    confusion_matrix = np.zeros((len(folders),len(folders)))\n",
    "    count=0\n",
    "    for i in range(len(predicted)):\n",
    "        predicted_index = folders.index(predicted[i])\n",
    "        actual_index = folders.index(test[i])\n",
    "        confusion_matrix[predicted_index][actual_index]+=1\n",
    "    return confusion_matrix"
   ]
  },
  {
   "cell_type": "code",
   "execution_count": 182,
   "metadata": {},
   "outputs": [],
   "source": [
    "accuracy = accuracy_metric(test_Y,predicted_5)"
   ]
  },
  {
   "cell_type": "code",
   "execution_count": 183,
   "metadata": {},
   "outputs": [],
   "source": [
    "con = confusion(test_Y,predicted_5)"
   ]
  },
  {
   "cell_type": "code",
   "execution_count": 184,
   "metadata": {},
   "outputs": [
    {
     "name": "stdout",
     "output_type": "stream",
     "text": [
      "94.53333333333333\n"
     ]
    }
   ],
   "source": [
    "print(accuracy)"
   ]
  },
  {
   "cell_type": "code",
   "execution_count": 185,
   "metadata": {},
   "outputs": [
    {
     "name": "stdout",
     "output_type": "stream",
     "text": [
      "[[300.   6.  23.  10.  40.]\n",
      " [  0. 294.   0.   2.   0.]\n",
      " [  0.   0. 277.   0.   0.]\n",
      " [  0.   0.   0. 287.   0.]\n",
      " [  0.   0.   0.   1. 260.]]\n"
     ]
    }
   ],
   "source": [
    "print(con)"
   ]
  },
  {
   "cell_type": "code",
   "execution_count": 186,
   "metadata": {},
   "outputs": [
    {
     "data": {
      "image/png": "[encoded data removed]",
      "text/plain": [
       "<Figure size 432x288 with 1 Axes>"
      ]
     },
     "metadata": {
      "needs_background": "light"
     },
     "output_type": "display_data"
    }
   ],
   "source": [
    "#comparison of accuracies between all 3 knn's\n",
    "plt.plot(acc_list)\n",
    "plt.title('Accuracies for different values of k')\n",
    "plt.ylabel('accuracies of k')\n",
    "plt.xlabel('values of k')\n",
    "plt.show()"
   ]
  },
  {
   "cell_type": "code",
   "execution_count": null,
   "metadata": {},
   "outputs": [],
   "source": []
  }
 ],
 "metadata": {
  "kernelspec": {
   "display_name": "Python 3",
   "language": "python",
   "name": "python3"
  },
  "language_info": {
   "codemirror_mode": {
    "name": "ipython",
    "version": 3
   },
   "file_extension": ".py",
   "mimetype": "text/x-python",
   "name": "python",
   "nbconvert_exporter": "python",
   "pygments_lexer": "ipython3",
   "version": "3.7.4"
  }
 },
 "nbformat": 4,
 "nbformat_minor": 2
}
